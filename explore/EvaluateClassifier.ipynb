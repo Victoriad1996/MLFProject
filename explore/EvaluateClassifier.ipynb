{
 "cells": [
  {
   "cell_type": "code",
   "execution_count": 1,
   "metadata": {},
   "outputs": [],
   "source": [
    "## Evaluate the NJODE_classifeier (in order to run the data_utils and the model file has to be replaced with those I pushed on git\n",
    "## also one should have the model saved in the path 'model_path_save_last'). gi"
   ]
  },
  {
   "cell_type": "code",
   "execution_count": 1,
   "metadata": {},
   "outputs": [],
   "source": [
    "import torch\n",
    "import tqdm\n",
    "import numpy as np\n",
    "from torch.utils.data import DataLoader\n",
    "from sklearn.model_selection import train_test_split\n",
    "import os, sys\n",
    "import pandas as pd\n",
    "import json\n",
    "import time\n",
    "import socket\n",
    "import matplotlib\n",
    "import matplotlib.colors\n",
    "from torch.backends import cudnn\n",
    "import gc\n",
    "sys.path.append(\"../\")\n",
    "try:\n",
    "    from . import models as models\n",
    "    from . import data_utils as data_utils\n",
    "    from ..GRU_ODE_Bayes import models_gru_ode_bayes as models_gru_ode_bayes\n",
    "except Exception:\n",
    "    import NJODE.models as models\n",
    "    import NJODE.data_utils as data_utils\n",
    "    import GRU_ODE_Bayes.models_gru_ode_bayes as models_gru_ode_bayes\n",
    "import matplotlib.pyplot as plt"
   ]
  },
  {
   "cell_type": "code",
   "execution_count": 2,
   "metadata": {},
   "outputs": [
    {
     "name": "stdout",
     "output_type": "stream",
     "text": [
      "using loss: standard\n",
      "use residual network: input_size=1, output_size=10\n",
      "use residual network: input_size=10, output_size=1\n"
     ]
    }
   ],
   "source": [
    "params_dict = {'batch_size': 100, 'bias': True, 'dataset': 'BlackScholes', 'dataset_id': None, 'dropout_rate': 0.1,\n",
    "               'enc_nn': [[200, 'tanh'], [200, 'tanh']], 'epochs': 100, 'hidden_size': 10, 'input_size': 1,\n",
    "               'learning_rate': 0.001, 'ode_nn': [[200, 'tanh'], [200, 'tanh']], 'paths_to_plot': [0, 1, 2, 3, 4],\n",
    "               'plot': True, 'options': {'residual_enc_dec': True, 'which_loss': 'standard'}, 'output_size': 1,\n",
    "               'readout_nn': [[200, 'tanh'], [200, 'tanh']], 'save_every': 5, 'seed': 398, 'solver': 'euler',\n",
    "               'test_size': 0.2, 'use_rnn': True, 'weight': 0.5, 'weight_decay': 1.0, 'n_layers_classification': 3, \n",
    "               'activation_classification': 'relu','n_hidden_classification': 50,\n",
    "               'dropout_rate_classification': 0}\n",
    "learning_rate = 0.001\n",
    "model = models.NJODE_classification(**params_dict)\n",
    "model_name = 'NJODE'\n",
    "\n",
    "device = torch.device(\"cpu\")\n",
    "model.to(device)\n",
    "optimizer = torch.optim.Adam(model.parameters(), lr=learning_rate,\n",
    "                                 weight_decay=0.0005)\n",
    "#load weights\n",
    "model_path_save_last = '../data/saved_models/id-25/best_checkpoint/'\n",
    "models.get_ckpt_model(model_path_save_last, model, optimizer, device)"
   ]
  },
  {
   "cell_type": "code",
   "execution_count": 3,
   "metadata": {},
   "outputs": [],
   "source": [
    "## create a small data_set and use it to evaluate the model\n",
    "#create dataset\n",
    "hyperparam_vol_0 = {\n",
    "    'drift': 2., 'volatility': .3, 'mean': 4,\n",
    "    'speed': 2., 'correlation': 0.5, 'nb_paths': 1000, 'nb_steps': 100,\n",
    "    'S0': 1, 'maturity': 1., 'dimension': 1, \n",
    "    'obs_perc': 0.1,\n",
    "    'scheme': 'euler', 'return_vol': False, 'v0': 1,\n",
    "}\n",
    "path,time_id = data_utils.create_mixed_dataset(hyperparam_dict = hyperparam_vol_0, vol1 = 0.6,seed = 23)"
   ]
  },
  {
   "cell_type": "code",
   "execution_count": 4,
   "metadata": {},
   "outputs": [],
   "source": [
    "#load dataset\n",
    "dataset = 'BlackScholes_mixed'\n",
    "data = data_utils.IrregularMixedDataset(model_name=dataset, time_id=time_id)\n",
    "\n",
    "dl = DataLoader(dataset = data, collate_fn = data_utils.custom_collate_fn_classification,shuffle  = True, batch_size = 1000, num_workers = 1)\n"
   ]
  },
  {
   "cell_type": "code",
   "execution_count": 22,
   "metadata": {},
   "outputs": [
    {
     "name": "stderr",
     "output_type": "stream",
     "text": [
      "../NJODE/models.py:608: UserWarning: Implicit dimension choice for softmax has been deprecated. Change the call to include dim=X as an argument.\n",
      "  out = torch.nn.Softmax()(out)\n"
     ]
    },
    {
     "name": "stdout",
     "output_type": "stream",
     "text": [
      "Accuracy:\n",
      "\n",
      "tensor(0.6870, dtype=torch.float64)\n",
      "\n",
      "True label:1.0\n",
      "\n",
      "Predicted probabilities:tensor([0.9539, 0.0461], grad_fn=<SliceBackward>)\n"
     ]
    },
    {
     "data": {
      "image/png": "[encoded data removed]",
      "text/plain": [
       "<Figure size 432x288 with 1 Axes>"
      ]
     },
     "metadata": {
      "needs_background": "light"
     },
     "output_type": "display_data"
    }
   ],
   "source": [
    "for batch in dl:\n",
    "    times = batch[\"times\"]\n",
    "    time_ptr = batch[\"time_ptr\"]\n",
    "    X = batch[\"X\"].to(device)\n",
    "    start_X = batch[\"start_X\"].to(device)\n",
    "    obs_idx = batch[\"obs_idx\"]\n",
    "    T = 1\n",
    "    delta_t = 0.01\n",
    "    model.eval()\n",
    "    res = model.get_pred(times, time_ptr, X, obs_idx, delta_t, T,\n",
    "                                  start_X).to(device)\n",
    "    #print(res)\n",
    "    #print(torch.argmax(res,dim=1))\n",
    "    print('Accuracy:\\n')\n",
    "    print(1-torch.mean(np.abs(torch.argmax(res,dim=1).detach()-batch['labels'])))\n",
    "    #label probabilities for the wrong classified paths\n",
    "    #print(res[np.where(np.abs(torch.argmax(res,dim=1).detach()-batch['labels']))])\n",
    "    \n",
    "    #plot the trajectory + observation for missprediction as well as the predicted probabilities\n",
    "    #index of the first wrong prediction\n",
    "    ind_wrong = np.where(np.abs(torch.argmax(res,dim=1).detach()-batch['labels']))[0][0]\n",
    "    ind = np.nonzero(data.observed_dates[ind_wrong,:])\n",
    "    plt.scatter(np.linspace(0,1,101)[ind],batch['true_paths'][ind_wrong,0,ind])\n",
    "    plt.plot(np.linspace(0,1,101),batch['true_paths'][ind_wrong,0,:])\n",
    "    print('\\nTrue label:' +str(batch['labels'][ind_wrong]))\n",
    "    print('\\nPredicted probabilities:'+str(res[ind_wrong,:]))"
   ]
  },
  {
   "cell_type": "code",
   "execution_count": null,
   "metadata": {},
   "outputs": [],
   "source": []
  },
  {
   "cell_type": "code",
   "execution_count": null,
   "metadata": {},
   "outputs": [],
   "source": []
  }
 ],
 "metadata": {
  "kernelspec": {
   "display_name": "Python 3",
   "language": "python",
   "name": "python3"
  },
  "language_info": {
   "codemirror_mode": {
    "name": "ipython",
    "version": 3
   },
   "file_extension": ".py",
   "mimetype": "text/x-python",
   "name": "python",
   "nbconvert_exporter": "python",
   "pygments_lexer": "ipython3",
   "version": "3.7.4"
  }
 },
 "nbformat": 4,
 "nbformat_minor": 4
}
